{
 "cells": [
  {
   "cell_type": "code",
   "execution_count": 2,
   "metadata": {
    "scrolled": false
   },
   "outputs": [
    {
     "name": "stdout",
     "output_type": "stream",
     "text": [
      "The autoreload extension is already loaded. To reload it, use:\n",
      "  %reload_ext autoreload\n",
      "The model has 22697562 learnable parameters\n"
     ]
    }
   ],
   "source": [
    "%load_ext autoreload\n",
    "%autoreload\n",
    "import torch\n",
    "from tqdm import tqdm\n",
    "from torch.utils.data import DataLoader\n",
    "from models.ResModel import ResModel\n",
    "from models.Model import Model\n",
    "from models.JointModel import JointModel\n",
    "from losses_eval import Eval_SceneFlow_KITTI_Train\n",
    "from datasets.kitti_2015_train import KITTI_2015_MonoSceneFlow\n",
    "from augmentations import Augmentation_Resize_Only\n",
    "from collections import OrderedDict\n",
    "\n",
    "class Args:\n",
    "    cuda = True\n",
    "    use_bn = False\n",
    "    momentum = 0.9\n",
    "    beta = 0.999\n",
    "    weight_decay=0.0\n",
    "    train_exp_mask=False\n",
    "    train_census_mask=True\n",
    "    encoder_name='resnet'\n",
    "    disp_pts_w = 0.0\n",
    "    flow_pts_w = 0.0\n",
    "    sf_sm_w = 200\n",
    "    pose_pts_w = 0.0\n",
    "    disp_sm_w = 0.2\n",
    "    do_pose_c2f = False\n",
    "    ssim_w = 0.85\n",
    "    disp_smooth_w = 0.1\n",
    "    mask_reg_w = 0.0\n",
    "    num_examples = 200\n",
    "    static_cons_w = 0.0\n",
    "    mask_cons_w = 0.0\n",
    "    mask_sm_w = 0.0\n",
    "    batch_size=1\n",
    "    flow_diff_thresh=1e-3\n",
    "    pt_encoder=False\n",
    "    num_scales = 4\n",
    "    evaluation=True\n",
    "    use_disp_min=False\n",
    "    flow_reduce_mode=\"sum\"\n",
    "    apply_flow_mask = False\n",
    "    apply_mask = True \n",
    "    flow_sm_w = 200\n",
    "    use_static_mask=False\n",
    "    disp_lr_w = 0.1\n",
    "\n",
    "args = Args()\n",
    "\n",
    "model = JointModel(args).cuda()\n",
    "loss = Eval_SceneFlow_KITTI_Train(args).cuda()\n",
    "num_params = sum(p.numel() for p in model.parameters() if p.requires_grad)\n",
    "print(f\"The model has {num_params} learnable parameters\")\n",
    "\n",
    "state_dict = torch.load('pretrained/bottleneck_latest.ckpt')['model']\n",
    "new_state_dict = OrderedDict()\n",
    "for k, v in state_dict.items():\n",
    "    name = k[7:]\n",
    "    new_state_dict[name] = v\n",
    "model.load_state_dict(new_state_dict)\n",
    "model = model.eval()\n",
    "\n",
    "augmentation = Augmentation_Resize_Only(args).cuda()\n",
    "\n",
    "val_dataset = KITTI_2015_MonoSceneFlow(args, data_root='/external/datasets/kitti2015/')\n",
    "val_loader = DataLoader(val_dataset, shuffle=False, batch_size=args.batch_size, pin_memory=True)"
   ]
  },
  {
   "cell_type": "code",
   "execution_count": 8,
   "metadata": {},
   "outputs": [
    {
     "name": "stderr",
     "output_type": "stream",
     "text": [
      "  0%|          | 0/200 [00:01<?, ?it/s]\n"
     ]
    }
   ],
   "source": [
    "%autoreload\n",
    "final_loss_dict = {}\n",
    "for i, data in enumerate(tqdm(val_loader)):\n",
    "    with torch.no_grad():\n",
    "        input_keys = list(filter(lambda x: \"input\" in x, data.keys()))\n",
    "        target_keys = list(filter(lambda x: \"target\" in x, data.keys()))\n",
    "        tensor_keys = input_keys + target_keys\n",
    "        \n",
    "        for k, v in data.items():\n",
    "            if k in tensor_keys:\n",
    "                data[k] = v.cuda(non_blocking=True)\n",
    "                \n",
    "        aug_data = augmentation(data)\n",
    "        out = model(aug_data)\n",
    "        loss_dict = loss(out, data)\n",
    "        for k, v in loss_dict.items():\n",
    "            if k not in final_loss_dict:\n",
    "                final_loss_dict[k] = v\n",
    "            else:\n",
    "                final_loss_dict[k] += v\n",
    "        break"
   ]
  },
  {
   "cell_type": "code",
   "execution_count": 22,
   "metadata": {},
   "outputs": [
    {
     "data": {
      "text/plain": [
       "{'d_abs': tensor(0.1521, device='cuda:0'),\n",
       " 'd_sq': tensor(1.5342, device='cuda:0'),\n",
       " 'd1': tensor(0.4295, device='cuda:0'),\n",
       " 'acc1': tensor(0.8048, device='cuda:0'),\n",
       " 'acc2': tensor(0.9453, device='cuda:0'),\n",
       " 'acc3': tensor(0.9809, device='cuda:0'),\n",
       " 'f_epe': tensor(11.9924, device='cuda:0'),\n",
       " 'f1': tensor(0.3625, device='cuda:0'),\n",
       " 'd2': tensor(0.5560, device='cuda:0'),\n",
       " 'sf': tensor(0.6954, device='cuda:0')}"
      ]
     },
     "execution_count": 22,
     "metadata": {},
     "output_type": "execute_result"
    }
   ],
   "source": [
    "update = {}\n",
    "for k, v in final_loss_dict.items():\n",
    "    update[k] = (v * args.batch_size) / 200\n",
    "update"
   ]
  }
 ],
 "metadata": {
  "kernelspec": {
   "display_name": "SF",
   "language": "python",
   "name": "sf"
  },
  "language_info": {
   "codemirror_mode": {
    "name": "ipython",
    "version": 3
   },
   "file_extension": ".py",
   "mimetype": "text/x-python",
   "name": "python",
   "nbconvert_exporter": "python",
   "pygments_lexer": "ipython3",
   "version": "3.7.5"
  }
 },
 "nbformat": 4,
 "nbformat_minor": 4
}
