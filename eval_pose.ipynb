{
 "cells": [
  {
   "cell_type": "code",
   "execution_count": 3,
   "metadata": {},
   "outputs": [],
   "source": [
    "%load_ext autoreload"
   ]
  },
  {
   "cell_type": "code",
   "execution_count": 23,
   "metadata": {},
   "outputs": [],
   "source": [
    "%autoreload\n",
    "import torch\n",
    "import torch.nn as nn\n",
    "from collections import OrderedDict\n",
    "from models.SceneNetStereoJointIter import SceneNetStereoJointIter\n",
    "from models.SceneNetMonoJointIter import SceneNetMonoJointIter\n",
    "from datasets.kitti_2015_train import KITTI_2015_MonoSceneFlow_Full\n",
    "from datasets.kitti_raw_monosf import KITTI_Odom_Test\n",
    "\n",
    "from losses_eval import Eval_SceneFlow_KITTI_Test, Eval_SceneFlow_KITTI_Train\n",
    "from losses import Loss_SceneFlow_SelfSup_JointIter\n",
    "\n",
    "from augmentations import Augmentation_Resize_Only\n",
    "from torch.utils.data import DataLoader\n",
    "\n",
    "import matplotlib.pyplot as plt\n",
    "from tqdm import tqdm\n",
    "from pprint import pprint\n",
    "\n",
    "class Args:\n",
    "    model_name='scenenet_joint_stereo_iter'\n",
    "    cuda = True\n",
    "    use_bn = True\n",
    "    momentum = 0.9\n",
    "    beta = 0.999\n",
    "    weight_decay=0.0\n",
    "    use_mask = True\n",
    "    sf_lr_w = 0.0\n",
    "    pose_lr_w = 0.0\n",
    "    mask_lr_w = 1.0\n",
    "    disp_lr_w = 1.0\n",
    "    disp_pts_w = 0.0\n",
    "    sf_pts_w = 0.2\n",
    "    sf_sm_w = 200\n",
    "    pose_sm_w = 200\n",
    "    pose_pts_w = 0.2\n",
    "    disp_sm_w = 0.2\n",
    "    disp_smooth_w = 0.1\n",
    "    mask_reg_w = 0.2\n",
    "    encoder_name=\"pwc\"\n",
    "    static_cons_w = 1.0\n",
    "    mask_cons_w = 0.2\n",
    "    mask_sm_w = 0.1\n",
    "    flow_diff_thresh=1e-3\n",
    "    evaluation=True\n",
    "    finetuning=False\n",
    "\n",
    "args = Args()\n",
    "\n",
    "model = SceneNetMonoJointIter(args).cuda()\n",
    "state_dict = torch.load('pretrained/joint_iter/latest.ckpt')['model']\n",
    "new_state_dict = OrderedDict()\n",
    "for k, v in state_dict.items():\n",
    "    name = k[7:]\n",
    "    new_state_dict[name] = v\n",
    "model.load_state_dict(new_state_dict)\n",
    "model.eval()\n",
    "\n",
    "dataset_09 = KITTI_Odom_Test(args, \"/external/datasets/kitti_data_jpg/\", \"09\")\n",
    "dataloader_09 = DataLoader(dataset_09, shuffle=False, batch_size=1, pin_memory=True)\n",
    "dataset_10 = KITTI_Odom_Test(args, \"/external/datasets/kitti_data_jpg/\", \"10\")\n",
    "dataloader_10 = DataLoader(dataset_10, shuffle=False, batch_size=1, pin_memory=True)\n",
    "\n",
    "aug = Augmentation_Resize_Only(args).cuda()"
   ]
  },
  {
   "cell_type": "code",
   "execution_count": 49,
   "metadata": {},
   "outputs": [
    {
     "name": "stderr",
     "output_type": "stream",
     "text": [
      "  1%|▏         | 20/1590 [00:03<05:10,  5.05it/s]"
     ]
    },
    {
     "name": "stdout",
     "output_type": "stream",
     "text": [
      "[array([0.02557536, 0.01086417, 0.28617973]), array([0.01843651, 0.00904032, 0.29097395]), array([0.01458911, 0.00690351, 0.29686111]), array([0.00952712, 0.00596559, 0.30431479]), array([0.00442635, 0.00465334, 0.31390454]), array([0.00053958, 0.00523094, 0.32177713]), array([0.0066841 , 0.00784034, 0.33625371]), array([0.01206659, 0.00937131, 0.3538369 ]), array([0.0139446 , 0.00723075, 0.35837967]), array([0.00935413, 0.00575072, 0.37183138]), array([0.00736904, 0.00458036, 0.38441855]), array([0.01021255, 0.00606851, 0.39332453]), array([0.02010878, 0.00835971, 0.40087475]), array([0.01955232, 0.00861912, 0.41565599]), array([0.01725722, 0.00872964, 0.42705677]), array([0.01036243, 0.00818809, 0.44109209]), array([0.00436428, 0.00656745, 0.45122663]), array([0.00533916, 0.00564975, 0.46720161]), array([0.00923828, 0.00611654, 0.48053615]), array([0.00452175, 0.00596867, 0.50123691]), array([0.00051625, 0.00685171, 0.50337788])]\n",
      "\n",
      "   Trajectory error: 0.134, std: 0.182\n",
      "\n"
     ]
    },
    {
     "name": "stderr",
     "output_type": "stream",
     "text": [
      "\n"
     ]
    }
   ],
   "source": [
    "# from https://github.com/tinghuiz/SfMLearner\n",
    "def compute_ate(gtruth_xyz, pred_xyz):\n",
    "    alignment_error = pred_xyz - gtruth_xyz\n",
    "    rmse = np.sqrt(sum(alignment_error ** 2)) / gtruth_xyz.shape[0]\n",
    "    \n",
    "    return rmse\n",
    "\n",
    "ates = []\n",
    "for i, data in enumerate(tqdm(dataloader_09)):\n",
    "    with torch.no_grad():\n",
    "        # Get input and target tensor keys\n",
    "        input_keys = list(filter(lambda x: \"input\" in x, data.keys()))\n",
    "        target_keys = list(filter(lambda x: \"target\" in x, data.keys()))\n",
    "        tensor_keys = input_keys + target_keys\n",
    "        \n",
    "        # Possibly transfer to Cuda\n",
    "        for k, v in data.items():\n",
    "            if k in tensor_keys:\n",
    "                data[k] = v.cuda(non_blocking=True)\n",
    "                \n",
    "        aug_data = aug(data)\n",
    "        out = model(aug_data)\n",
    "        pose_f = out['pose_f'][0][:, :3, 3].double().cpu()\n",
    "        gt_t = data['target_pose'][:, :3, 3].cpu()\n",
    "        ate = compute_ate(gt_t, pose_f)\n",
    "        ates.append(np.array(ate))\n",
    "        \n",
    "        if i == 20:\n",
    "            break\n",
    "\n",
    "ates = np.array(ates)\n",
    "print(\"\\n   Trajectory error: {:0.3f}, std: {:0.3f}\\n\".format(np.mean(ates), np.std(ates)))\n",
    "\n",
    "# save_path = os.path.join(opt.load_weights_folder, \"poses.npy\")\n",
    "# np.save(save_path, pred_poses)\n",
    "# print(\"-> Predictions saved to\", save_path)"
   ]
  }
 ],
 "metadata": {
  "kernelspec": {
   "display_name": "SF",
   "language": "python",
   "name": "sf"
  },
  "language_info": {
   "codemirror_mode": {
    "name": "ipython",
    "version": 3
   },
   "file_extension": ".py",
   "mimetype": "text/x-python",
   "name": "python",
   "nbconvert_exporter": "python",
   "pygments_lexer": "ipython3",
   "version": "3.7.5"
  }
 },
 "nbformat": 4,
 "nbformat_minor": 4
}
