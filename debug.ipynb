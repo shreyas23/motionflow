{
 "cells": [
  {
   "cell_type": "code",
   "execution_count": 62,
   "metadata": {},
   "outputs": [
    {
     "name": "stdout",
     "output_type": "stream",
     "text": [
      "tensor([[[0.7206, 0.7675, 0.5116, 0.0000],\n",
      "         [0.4900, 0.0337, 0.6823, 0.0000],\n",
      "         [0.8282, 0.0746, 0.1576, 0.0000]]])\n",
      "tensor([[[0.7206, 0.7675, 0.5116, 0.0000],\n",
      "         [0.4900, 0.0337, 0.6823, 0.0000],\n",
      "         [0.8282, 0.0746, 0.1576, 0.6000]]])\n"
     ]
    }
   ],
   "source": [
    "from utils.sceneflow_util import add_pose\n",
    "import torch\n",
    "\n",
    "\n",
    "pose_mat = torch.cat([torch.rand(3, 3), torch.zeros(3, 1)], dim=1).unsqueeze(0)\n",
    "pose_res = torch.tensor([[0, 0, 0.3, 0, 0, 0]]).float()\n",
    "\n",
    "print(pose_mat)\n",
    "\n",
    "pose_mat = add_pose(pose_mat, pose_res)\n",
    "pose_mat = add_pose(pose_mat, pose_res)\n",
    "print(pose_mat)"
   ]
  },
  {
   "cell_type": "code",
   "execution_count": 1,
   "metadata": {},
   "outputs": [],
   "source": [
    "%load_ext autoreload\n",
    "def train_one_epoch(args, model, loss, dataloader, optimizer, augmentations, lr_scheduler):\n",
    "\n",
    "    loss_dict_avg = None\n",
    "\n",
    "    for data in dataloader:\n",
    "        loss_dict, output_dict = step(args, data, model, loss, augmentations, optimizer)\n",
    "        \n",
    "        if loss_dict_avg is None:\n",
    "            loss_dict_avg = {k:0 for k in loss_dict}\n",
    "\n",
    "        if optimizer is not None:\n",
    "            # calculate gradients and then do Adam step\n",
    "            optimizer.zero_grad()\n",
    "            \n",
    "        total_loss = loss_dict['total_loss']\n",
    "        \n",
    "        if optimizer is not None:\n",
    "            total_loss.backward()\n",
    "            optimizer.step()\n",
    "\n",
    "        for key in loss_dict.keys():\n",
    "            loss_dict_avg[key] += loss_dict[key]\n",
    "\n",
    "        n = len(dataloader)\n",
    "        for key in loss_dict.keys():\n",
    "            loss_dict_avg[key] /= n\n",
    "        \n",
    "    return loss_dict_avg, output_dict, data\n",
    " \n",
    "def step(args, data_dict, model, loss, augmentations, optimizer):\n",
    "    start = time()\n",
    "    # Get input and target tensor keys\n",
    "    input_keys = list(filter(lambda x: \"input\" in x, data_dict.keys()))\n",
    "    target_keys = list(filter(lambda x: \"target\" in x, data_dict.keys()))\n",
    "    tensor_keys = input_keys + target_keys\n",
    "    debug_keys = ['input_l1', 'input_l2', 'input_r1', 'input_r2']\n",
    "\n",
    "    # Possibly transfer to Cuda\n",
    "    if args.cuda:\n",
    "        for k, v in data_dict.items():\n",
    "            if k in tensor_keys:\n",
    "                data_dict[k] = v.cuda(non_blocking=True)\n",
    "\n",
    "    if augmentations is not None:\n",
    "        with torch.no_grad():\n",
    "            data_dict = augmentations(data_dict)\n",
    "\n",
    "    for k, t in data_dict.items():\n",
    "        if k in input_keys:\n",
    "            data_dict[k] = t.requires_grad_(True)\n",
    "        if k in target_keys:\n",
    "            data_dict[k] = t.requires_grad_(False)\n",
    "\n",
    "        output_dict = model(data_dict)\n",
    "        loss_dict = loss(output_dict, data_dict)\n",
    "\n",
    "        training_loss = loss_dict['total_loss']\n",
    "        assert (not torch.isnan(training_loss)), \"training_loss is NaN\"\n",
    "\n",
    "    return loss_dict, output_dict"
   ]
  },
  {
   "cell_type": "code",
   "execution_count": 10,
   "metadata": {
    "scrolled": false,
    "tags": []
   },
   "outputs": [],
   "source": [
    "%autoreload\n",
    "import torch\n",
    "from tqdm import tqdm\n",
    "from time import time\n",
    "from torch.optim import Adam\n",
    "from torch.utils.data import DataLoader\n",
    "from augmentations import Augmentation_Resize_Only, Augmentation_SceneFlow\n",
    "from datasets.kitti_raw_monosf import KITTI_Raw_KittiSplit_Train, KITTI_Raw_KittiSplit_Valid\n",
    "\n",
    "from models.SceneNetStereoJoint import SceneNetStereoJoint\n",
    "from losses import Loss_SceneFlow_SelfSup_JointStereo\n",
    "\n",
    "from collections import OrderedDict\n",
    "\n",
    "class Args:\n",
    "    cuda = True\n",
    "    model_name = 'scenenet'\n",
    "    use_bn = False\n",
    "    encoder_name = 'pwc'\n",
    "    evaluation = False\n",
    "    finetuning = False\n",
    "    momentum = 0.9\n",
    "    beta = 0.999\n",
    "    weight_decay=0.0\n",
    "    use_mask = True\n",
    "    mask_lr_w = 1.0\n",
    "    pts_lr_w = 1.0\n",
    "    disp_lr_w = 1.0\n",
    "    pose_lr_w = 200\n",
    "    pose_sm_w = 200\n",
    "    disp_smooth_w = 0.1\n",
    "    mask_reg_w = 0.1\n",
    "    static_cons_w = 0.0\n",
    "    mask_cons_w = 0.0\n",
    "    mask_sm_w = 0.1\n",
    "    flow_diff_thresh=1e-3\n",
    "    test = True\n",
    "    \n",
    "    \n",
    "args = Args()\n",
    "\n",
    "model = SceneNetStereoJoint(args).cuda()\n",
    "\n",
    "augmentations = Augmentation_Resize_Only(args, photometric=False).cuda()\n",
    "optimizer = Adam(model.parameters(), lr=2e-4, betas=[args.momentum, args.beta], weight_decay=args.weight_decay)\n",
    "\n",
    "data_root = '/external/datasets/kitti_data_jpg/'\n",
    "train_dataset = KITTI_Raw_KittiSplit_Train(args, root=data_root, num_examples=1)\n",
    "train_loader = DataLoader(train_dataset, batch_size=1)\n",
    "\n",
    "val_dataset = KITTI_Raw_KittiSplit_Valid(args, root=data_root, num_examples=10)\n",
    "val_loader = DataLoader(val_dataset, batch_size=1)\n",
    "loss = Loss_SceneFlow_SelfSup_JointStereo(args)\n",
    "# train_one_epoch(args, model, loss, train_loader, optimizer, augmentations, None)"
   ]
  },
  {
   "cell_type": "code",
   "execution_count": 11,
   "metadata": {},
   "outputs": [],
   "source": [
    "loss_dict_avg, output_dict, data = train_one_epoch(args, model, loss, train_loader, optimizer, augmentations, None)"
   ]
  },
  {
   "cell_type": "code",
   "execution_count": 49,
   "metadata": {},
   "outputs": [
    {
     "ename": "TypeError",
     "evalue": "pixel2pts_ms_depth() missing 1 required positional argument: 'rel_scale'",
     "output_type": "error",
     "traceback": [
      "\u001b[0;31m---------------------------------------------------------------------------\u001b[0m",
      "\u001b[0;31mTypeError\u001b[0m                                 Traceback (most recent call last)",
      "\u001b[0;32m<ipython-input-49-9ae1f0e58b0a>\u001b[0m in \u001b[0;36m<module>\u001b[0;34m\u001b[0m\n\u001b[1;32m      4\u001b[0m \u001b[0mdisp_l1\u001b[0m \u001b[0;34m=\u001b[0m \u001b[0moutput_dict\u001b[0m\u001b[0;34m[\u001b[0m\u001b[0;34m'disp_l1'\u001b[0m\u001b[0;34m]\u001b[0m\u001b[0;34m[\u001b[0m\u001b[0;36m0\u001b[0m\u001b[0;34m]\u001b[0m\u001b[0;34m\u001b[0m\u001b[0;34m\u001b[0m\u001b[0m\n\u001b[1;32m      5\u001b[0m \u001b[0mdisp_r1\u001b[0m \u001b[0;34m=\u001b[0m \u001b[0moutput_dict\u001b[0m\u001b[0;34m[\u001b[0m\u001b[0;34m'output_dict_r'\u001b[0m\u001b[0;34m]\u001b[0m\u001b[0;34m[\u001b[0m\u001b[0;34m'disp_l1'\u001b[0m\u001b[0;34m]\u001b[0m\u001b[0;34m[\u001b[0m\u001b[0;36m0\u001b[0m\u001b[0;34m]\u001b[0m\u001b[0;34m\u001b[0m\u001b[0;34m\u001b[0m\u001b[0m\n\u001b[0;32m----> 6\u001b[0;31m \u001b[0mdepth_l1\u001b[0m \u001b[0;34m=\u001b[0m \u001b[0mpixel2pts_ms_depth\u001b[0m\u001b[0;34m(\u001b[0m\u001b[0mk_l1\u001b[0m\u001b[0;34m,\u001b[0m \u001b[0mdisp_l1\u001b[0m\u001b[0;34m)\u001b[0m\u001b[0;34m\u001b[0m\u001b[0;34m\u001b[0m\u001b[0m\n\u001b[0m\u001b[1;32m      7\u001b[0m \u001b[0mplt\u001b[0m\u001b[0;34m.\u001b[0m\u001b[0mimshow\u001b[0m\u001b[0;34m(\u001b[0m\u001b[0mdepth_l1\u001b[0m\u001b[0;34m)\u001b[0m\u001b[0;34m\u001b[0m\u001b[0;34m\u001b[0m\u001b[0m\n",
      "\u001b[0;31mTypeError\u001b[0m: pixel2pts_ms_depth() missing 1 required positional argument: 'rel_scale'"
     ]
    }
   ],
   "source": [
    "from utils.sceneflow_util import disp2depth_kitti, pixel2pts_ms_depth\n",
    "k_l1 = data['input_k_l1_aug']\n",
    "k_r1 = data['input_k_r1_aug']\n",
    "disp_l1 = output_dict['disp_l1'][0]\n",
    "disp_r1 = output_dict['output_dict_r']['disp_l1'][0]\n",
    "depth_l1 = pixel2pts_ms_depth(k_l1, disp_l1)\n",
    "plt.imshow(depth_l1)"
   ]
  },
  {
   "cell_type": "code",
   "execution_count": 21,
   "metadata": {
    "scrolled": false
   },
   "outputs": [
    {
     "data": {
      "text/plain": [
       "(tensor([[ 0.9996, -0.0223,  0.0197],\n",
       "         [ 0.0223,  0.9998, -0.0011],\n",
       "         [-0.0197,  0.0015,  0.9998]]),\n",
       " tensor([ 0.5326, -0.0066,  0.0090]))"
      ]
     },
     "execution_count": 21,
     "metadata": {},
     "output_type": "execute_result"
    }
   ],
   "source": [
    "torch.inverse(train_dataset[0]['input_cam_l2r'][:3, :3]), -train_dataset[0]['input_cam_l2r'][:, 3]"
   ]
  }
 ],
 "metadata": {
  "kernelspec": {
   "display_name": "SF",
   "language": "python",
   "name": "sf"
  },
  "language_info": {
   "codemirror_mode": {
    "name": "ipython",
    "version": 3
   },
   "file_extension": ".py",
   "mimetype": "text/x-python",
   "name": "python",
   "nbconvert_exporter": "python",
   "pygments_lexer": "ipython3",
   "version": "3.7.5"
  }
 },
 "nbformat": 4,
 "nbformat_minor": 4
}
