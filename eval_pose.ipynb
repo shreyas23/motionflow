{
 "cells": [
  {
   "cell_type": "code",
   "execution_count": 6,
   "metadata": {},
   "outputs": [],
   "source": [
    "%load_ext autoreload\n",
    "%autoreload\n",
    "import torch\n",
    "import torch.nn as nn\n",
    "from collections import OrderedDict\n",
    "from models.SceneNetStereoJointIter import SceneNetStereoJointIter\n",
    "from models.SceneNetMonoJointIter import SceneNetMonoJointIter\n",
    "from datasets.kitti_2015_train import KITTI_2015_MonoSceneFlow_Full\n",
    "from datasets.kitti_raw_monosf import KITTI_Odom_Test\n",
    "\n",
    "from losses_eval import Eval_SceneFlow_KITTI_Test, Eval_SceneFlow_KITTI_Train\n",
    "from losses import Loss_SceneFlow_SelfSup_JointIter\n",
    "\n",
    "from augmentations import Augmentation_Resize_Only\n",
    "from torch.utils.data import DataLoader\n",
    "\n",
    "import matplotlib.pyplot as plt\n",
    "from tqdm import tqdm\n",
    "from pprint import pprint\n",
    "import numpy as np\n",
    "\n",
    "class Args:\n",
    "    model_name='scenenet_joint_stereo_iter'\n",
    "    cuda = True\n",
    "    use_bn = True\n",
    "    momentum = 0.9\n",
    "    beta = 0.999\n",
    "    weight_decay=0.0\n",
    "    use_mask = True\n",
    "    sf_lr_w = 0.0\n",
    "    pose_lr_w = 0.0\n",
    "    mask_lr_w = 1.0\n",
    "    disp_lr_w = 1.0\n",
    "    disp_pts_w = 0.0\n",
    "    sf_pts_w = 0.2\n",
    "    sf_sm_w = 200\n",
    "    fb_w = 0.2\n",
    "    pose_sm_w = 200\n",
    "    pose_pts_w = 0.2\n",
    "    disp_sm_w = 0.2\n",
    "    disp_smooth_w = 0.1\n",
    "    mask_reg_w = 0.2\n",
    "    encoder_name=\"pwc\"\n",
    "    static_cons_w = 1.0\n",
    "    mask_cons_w = 0.2\n",
    "    mask_sm_w = 0.1\n",
    "    flow_diff_thresh=1e-3\n",
    "    evaluation=True\n",
    "    finetuning=False\n",
    "\n",
    "args = Args()\n",
    "\n",
    "model = SceneNetMonoJointIter(args).cuda()\n",
    "state_dict = torch.load('pretrained/fb/6.ckpt')['model']\n",
    "new_state_dict = OrderedDict()\n",
    "for k, v in state_dict.items():\n",
    "    name = k[7:]\n",
    "    new_state_dict[name] = v\n",
    "model.load_state_dict(new_state_dict)\n",
    "model.eval()\n",
    "\n",
    "dataset_09 = KITTI_Odom_Test(args, \"/external/datasets/kitti_data_jpg/\", \"09\")\n",
    "dataloader_09 = DataLoader(dataset_09, shuffle=False, batch_size=1, pin_memory=True)\n",
    "dataset_10 = KITTI_Odom_Test(args, \"/external/datasets/kitti_data_jpg/\", \"10\")\n",
    "dataloader_10 = DataLoader(dataset_10, shuffle=False, batch_size=1, pin_memory=True)\n",
    "\n",
    "aug = Augmentation_Resize_Only(args).cuda()"
   ]
  },
  {
   "cell_type": "code",
   "execution_count": 16,
   "metadata": {
    "collapsed": true
   },
   "outputs": [
    {
     "name": "stderr",
     "output_type": "stream",
     "text": [
      "  0%|          | 2/1590 [00:00<05:22,  4.93it/s]"
     ]
    },
    {
     "name": "stdout",
     "output_type": "stream",
     "text": [
      "pose_f: tensor([[-0.0155,  0.0058, -0.1012]], dtype=torch.float64)\n",
      "gt    : tensor([[ 0.0214, -0.0085,  0.2881]], dtype=torch.float64)\n",
      "pose_f: tensor([[-0.0109,  0.0048, -0.0911]], dtype=torch.float64)\n",
      "gt    : tensor([[ 0.0140, -0.0071,  0.2928]], dtype=torch.float64)\n"
     ]
    },
    {
     "name": "stderr",
     "output_type": "stream",
     "text": [
      "  0%|          | 4/1590 [00:00<05:17,  5.00it/s]"
     ]
    },
    {
     "name": "stdout",
     "output_type": "stream",
     "text": [
      "pose_f: tensor([[-0.0042,  0.0048, -0.0865]], dtype=torch.float64)\n",
      "gt    : tensor([[ 0.0098, -0.0054,  0.2987]], dtype=torch.float64)\n",
      "pose_f: tensor([[-9.5583e-05,  5.4669e-03, -1.0602e-01]], dtype=torch.float64)\n",
      "gt    : tensor([[ 0.0046, -0.0048,  0.3061]], dtype=torch.float64)\n"
     ]
    },
    {
     "name": "stderr",
     "output_type": "stream",
     "text": [
      "  0%|          | 6/1590 [00:01<05:14,  5.04it/s]"
     ]
    },
    {
     "name": "stdout",
     "output_type": "stream",
     "text": [
      "pose_f: tensor([[ 0.0053,  0.0065, -0.1251]], dtype=torch.float64)\n",
      "gt    : tensor([[-0.0006, -0.0036,  0.3157]], dtype=torch.float64)\n",
      "pose_f: tensor([[ 0.0095,  0.0084, -0.1345]], dtype=torch.float64)\n",
      "gt    : tensor([[-0.0049, -0.0046,  0.3234]], dtype=torch.float64)\n"
     ]
    },
    {
     "name": "stderr",
     "output_type": "stream",
     "text": [
      "  1%|          | 8/1590 [00:01<05:11,  5.07it/s]"
     ]
    },
    {
     "name": "stdout",
     "output_type": "stream",
     "text": [
      "pose_f: tensor([[ 0.0074,  0.0082, -0.1430]], dtype=torch.float64)\n",
      "gt    : tensor([[-0.0122, -0.0070,  0.3377]], dtype=torch.float64)\n",
      "pose_f: tensor([[ 0.0172,  0.0109, -0.1576]], dtype=torch.float64)\n",
      "gt    : tensor([[-0.0175, -0.0086,  0.3552]], dtype=torch.float64)\n"
     ]
    },
    {
     "name": "stderr",
     "output_type": "stream",
     "text": [
      "  1%|          | 10/1590 [00:01<05:09,  5.11it/s]"
     ]
    },
    {
     "name": "stdout",
     "output_type": "stream",
     "text": [
      "pose_f: tensor([[ 0.0170,  0.0105, -0.1531]], dtype=torch.float64)\n",
      "gt    : tensor([[-0.0191, -0.0070,  0.3597]], dtype=torch.float64)\n",
      "pose_f: tensor([[ 0.0154,  0.0093, -0.1331]], dtype=torch.float64)\n",
      "gt    : tensor([[-0.0141, -0.0054,  0.3730]], dtype=torch.float64)\n"
     ]
    },
    {
     "name": "stderr",
     "output_type": "stream",
     "text": [
      "  1%|          | 12/1590 [00:02<05:08,  5.11it/s]"
     ]
    },
    {
     "name": "stdout",
     "output_type": "stream",
     "text": [
      "pose_f: tensor([[ 0.0163,  0.0084, -0.1352]], dtype=torch.float64)\n",
      "gt    : tensor([[-0.0119, -0.0039,  0.3855]], dtype=torch.float64)\n",
      "pose_f: tensor([[ 0.0155,  0.0100, -0.1554]], dtype=torch.float64)\n",
      "gt    : tensor([[-0.0144, -0.0052,  0.3944]], dtype=torch.float64)\n"
     ]
    },
    {
     "name": "stderr",
     "output_type": "stream",
     "text": [
      "  1%|          | 14/1590 [00:02<05:08,  5.10it/s]"
     ]
    },
    {
     "name": "stdout",
     "output_type": "stream",
     "text": [
      "pose_f: tensor([[ 0.0144,  0.0102, -0.1751]], dtype=torch.float64)\n",
      "gt    : tensor([[-0.0240, -0.0073,  0.4019]], dtype=torch.float64)\n",
      "pose_f: tensor([[ 0.0136,  0.0102, -0.1732]], dtype=torch.float64)\n",
      "gt    : tensor([[-0.0231, -0.0074,  0.4168]], dtype=torch.float64)\n"
     ]
    },
    {
     "name": "stderr",
     "output_type": "stream",
     "text": [
      "\r",
      "  1%|          | 15/1590 [00:02<05:10,  5.07it/s]"
     ]
    },
    {
     "name": "stdout",
     "output_type": "stream",
     "text": [
      "pose_f: tensor([[ 0.0088,  0.0088, -0.1734]], dtype=torch.float64)\n",
      "gt    : tensor([[-0.0207, -0.0077,  0.4283]], dtype=torch.float64)\n",
      "pose_f: tensor([[ 0.0053,  0.0089, -0.1826]], dtype=torch.float64)\n",
      "gt    : tensor([[-0.0137, -0.0075,  0.4425]], dtype=torch.float64)\n"
     ]
    },
    {
     "name": "stderr",
     "output_type": "stream",
     "text": [
      "\r",
      "  1%|          | 15/1590 [00:03<05:30,  4.76it/s]"
     ]
    },
    {
     "name": "stdout",
     "output_type": "stream",
     "text": [
      "\n",
      "   Trajectory error: 0.179, std: 0.229\n",
      "\n"
     ]
    },
    {
     "name": "stderr",
     "output_type": "stream",
     "text": [
      "\n"
     ]
    }
   ],
   "source": [
    "# from https://github.com/tinghuiz/SfMLearner\n",
    "def compute_ate(gtruth_xyz, pred_xyz):\n",
    "    alignment_error = pred_xyz - gtruth_xyz\n",
    "    rmse = np.sqrt(sum(alignment_error ** 2)) / gtruth_xyz.shape[0]\n",
    "    \n",
    "    return rmse\n",
    "\n",
    "ates = []\n",
    "for i, data in enumerate(tqdm(dataloader_09)):\n",
    "    with torch.no_grad():\n",
    "        # Get input and target tensor keys\n",
    "        input_keys = list(filter(lambda x: \"input\" in x, data.keys()))\n",
    "        target_keys = list(filter(lambda x: \"target\" in x, data.keys()))\n",
    "        tensor_keys = input_keys + target_keys\n",
    "        \n",
    "        # Possibly transfer to Cuda\n",
    "        for k, v in data.items():\n",
    "            if k in tensor_keys:\n",
    "                data[k] = v.cuda(non_blocking=True)\n",
    "                \n",
    "        aug_data = aug(data)\n",
    "        out = model(aug_data)\n",
    "        pose = out['pose_f'][0][:, :3, 3].double().cpu()\n",
    "        gt_t = data['target_pose'][:, :3, 3].cpu()\n",
    "        \n",
    "        print(f\"pose_f: {pose}\")\n",
    "        print(f\"gt    : {gt_t}\")\n",
    "        ate = compute_ate(gt_t, pose)\n",
    "        ates.append(np.array(ate))\n",
    "        \n",
    "        if i == 15:\n",
    "            break\n",
    "        \n",
    "ates = np.array(ates)\n",
    "print(\"\\n   Trajectory error: {:0.3f}, std: {:0.3f}\\n\".format(np.mean(ates), np.std(ates)))\n",
    "\n",
    "# save_path = os.path.join(opt.load_weights_folder, \"poses.npy\")\n",
    "# np.save(save_path, pred_poses)\n",
    "# print(\"-> Predictions saved to\", save_path)"
   ]
  }
 ],
 "metadata": {
  "kernelspec": {
   "display_name": "SF",
   "language": "python",
   "name": "sf"
  },
  "language_info": {
   "codemirror_mode": {
    "name": "ipython",
    "version": 3
   },
   "file_extension": ".py",
   "mimetype": "text/x-python",
   "name": "python",
   "nbconvert_exporter": "python",
   "pygments_lexer": "ipython3",
   "version": "3.7.5"
  }
 },
 "nbformat": 4,
 "nbformat_minor": 4
}
