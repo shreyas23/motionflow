{
 "cells": [
  {
   "cell_type": "code",
   "execution_count": 20,
   "metadata": {
    "scrolled": true
   },
   "outputs": [
    {
     "name": "stdout",
     "output_type": "stream",
     "text": [
      "The autoreload extension is already loaded. To reload it, use:\n",
      "  %reload_ext autoreload\n"
     ]
    }
   ],
   "source": [
    "%load_ext autoreload\n",
    "%autoreload\n",
    "import torch\n",
    "import torch.nn as nn\n",
    "from collections import OrderedDict\n",
    "\n",
    "from datasets.kitti_raw_monosf import KITTI_Raw_EigenSplit_Train, KITTI_Raw_EigenSplit_Valid\n",
    "from datasets.kitti_2015_train import KITTI_2015_MonoSceneFlow_Full\n",
    "\n",
    "from models.Model import Model\n",
    "from models.JointModel import JointModel\n",
    "from losses import Loss\n",
    "\n",
    "from augmentations import Augmentation_Resize_Only\n",
    "from torch.utils.data import DataLoader\n",
    "\n",
    "import matplotlib.pyplot as plt\n",
    "from pprint import pprint\n",
    "from tqdm import tqdm\n",
    "    \n",
    "class Args:\n",
    "    cuda = True\n",
    "    use_bn = False\n",
    "    momentum = 0.9\n",
    "    beta = 0.999\n",
    "    weight_decay=0.0\n",
    "    train_exp_mask=False\n",
    "    train_census_mask=True\n",
    "    model_name = \"joint\"\n",
    "    encoder_name='pwc'\n",
    "    disp_pts_w = 0.0\n",
    "    flow_pts_w = 0.2\n",
    "    sf_sm_w = 200\n",
    "    disp_sm_w = 0.2\n",
    "    do_pose_c2f = False\n",
    "    ssim_w = 0.85\n",
    "    disp_smooth_w = 0.1\n",
    "    mask_reg_w = 0.0\n",
    "    num_examples = 200\n",
    "    static_cons_w = 0.0\n",
    "    flow_reduce_mode = 'sum'\n",
    "    mask_cons_w = 0.3\n",
    "    mask_sm_w = 0.1\n",
    "    batch_size = 1\n",
    "    flow_diff_thresh = 0.15\n",
    "    pt_encoder = False\n",
    "    num_scales = 4\n",
    "    evaluation = True\n",
    "    use_disp_min = False\n",
    "    apply_flow_mask = True\n",
    "    apply_mask = True \n",
    "    mask_thresh = 0.5\n",
    "    use_bottleneck = False\n",
    "    flow_sm_w = 200\n",
    "    flow_cycle_w = 0.0\n",
    "    use_static_mask = False\n",
    "    disp_lr_w = 0.0\n",
    "\n",
    "args = Args()\n",
    "\n",
    "model = JointModel(args).cuda()\n",
    "\n",
    "state_dict = torch.load('pretrained/pose_corr.ckpt')['model']\n",
    "new_state_dict = OrderedDict()\n",
    "for k, v in state_dict.items():\n",
    "    name = k[7:]\n",
    "    new_state_dict[name] = v\n",
    "model.load_state_dict(new_state_dict)\n",
    "model = model.eval()\n",
    "\n",
    "del state_dict\n",
    "del new_state_dict\n",
    "\n",
    "augmentation = Augmentation_Resize_Only(args).cuda()\n",
    "# loss = Loss(args).cuda()\n",
    "\n",
    "# val_dataset = KITTI_2015_MonoSceneFlow_Full(args, root='/external/datasets/kitti2015/')\n",
    "val_dataset = KITTI_Raw_EigenSplit_Train(args, root='/external/datasets/kitti_data_jpg/', flip_augmentations=False, num_examples=500)\n",
    "val_loader = DataLoader(val_dataset, shuffle=False, batch_size=2, pin_memory=True)"
   ]
  },
  {
   "cell_type": "code",
   "execution_count": 23,
   "metadata": {},
   "outputs": [
    {
     "name": "stderr",
     "output_type": "stream",
     "text": [
      "250it [01:29,  2.79it/s]\n"
     ]
    }
   ],
   "source": [
    "%autoreload \n",
    "\n",
    "outs = []\n",
    "\n",
    "for i, data in tqdm(enumerate(val_loader)):\n",
    "    with torch.no_grad():\n",
    "        # Get input and target tensor keys\n",
    "        input_keys = list(filter(lambda x: \"input\" in x, data.keys()))\n",
    "        target_keys = list(filter(lambda x: \"target\" in x, data.keys()))\n",
    "        tensor_keys = input_keys + target_keys\n",
    "        \n",
    "        # Possibly transfer to Cuda\n",
    "        for k, v in data.items():\n",
    "            if k in tensor_keys:\n",
    "                data[k] = v.cuda(non_blocking=True)\n",
    "                \n",
    "        aug_data = augmentation(data)\n",
    "        out = model(aug_data)\n",
    "        \n",
    "        ds = {\n",
    "            'disps_l2_pp': out['disps_l2_pp'][0],\n",
    "            'pose_b': out['pose_b'][0],\n",
    "            'flows_b_pp': out['flows_b_pp'][0],\n",
    "            'K': aug_data['input_k_l1_aug'],\n",
    "            'img_l2': aug_data['input_l2'],\n",
    "            'masks_l2_pp': out['masks_l2_pp'][0]\n",
    "            }\n",
    "                \n",
    "        outs.append(ds)"
   ]
  },
  {
   "cell_type": "code",
   "execution_count": 31,
   "metadata": {
    "scrolled": false
   },
   "outputs": [
    {
     "name": "stderr",
     "output_type": "stream",
     "text": [
      "100%|██████████| 250/250 [00:07<00:00, 34.92it/s]\n"
     ]
    }
   ],
   "source": [
    "import numpy as np\n",
    "import torch.nn.functional as tf\n",
    "from utils.flow import flow_to_png_middlebury\n",
    "from utils.loss_utils import _disp2depth_kitti_K\n",
    "from utils.helpers import BackprojectDepth, Project3D\n",
    "from utils.inverse_warp import pose2sceneflow\n",
    "\n",
    "depth_imgs = []\n",
    "pose_imgs = []\n",
    "sf_imgs = []\n",
    "img_l2s = []\n",
    "mask_imgs = []\n",
    "\n",
    "for out in tqdm(outs):\n",
    "    img_l2 = out['img_l2']\n",
    "    disp_l2 = out['disps_l2_pp']\n",
    "    mask_l2 = out['masks_l2_pp']\n",
    "    pose_b = out['pose_b']\n",
    "    flow_b = out['flows_b_pp']\n",
    "    K = out['K']\n",
    "    inv_K = torch.inverse(K)\n",
    "\n",
    "    b, _, h, w = flow_b.shape\n",
    "\n",
    "    backproj = BackprojectDepth(b, h, w)\n",
    "    proj = Project3D(b, h, w)\n",
    "\n",
    "    disp_l2 = disp_l2 * w\n",
    "    depth_l2 = _disp2depth_kitti_K(disp_l2, K[:, 0, 0])\n",
    "    \n",
    "    depth_l2 = tf.interpolate(depth_l2, [h//2, w//2], align_corners=True, mode='bilinear')\n",
    "    \n",
    "    cmap = plt.get_cmap('magma')\n",
    "    \n",
    "    depth_img = cmap(depth_l2[0].squeeze(dim=1).cpu().numpy().astype(np.uint8), bytes=True).squeeze()[:, :, :-1]\n",
    "    depth_imgs.append(depth_img)\n",
    "    \n",
    "    depth_img = cmap(depth_l2[1].squeeze(dim=1).cpu().numpy().astype(np.uint8), bytes=True).squeeze()[:, :, :-1]\n",
    "    depth_imgs.append(depth_img)\n",
    "    \n",
    "    #mask\n",
    "    mask_l2 = tf.interpolate(mask_l2, [h//2, w//2], align_corners=True, mode='bilinear')\n",
    "    mask_img = cmap(mask_l2[0].squeeze(dim=1).cpu().numpy().astype(np.uint8), bytes=True).squeeze()[:, :, :-1]\n",
    "    mask_imgs.append(mask_img)\n",
    "    \n",
    "    mask_img = cmap(mask_l2[1].squeeze(dim=1).cpu().numpy().astype(np.uint8), bytes=True).squeeze()[:, :, :-1]\n",
    "    mask_imgs.append(mask_img)\n",
    "\n",
    "    # pose\n",
    "    pose_flow = pose2sceneflow(depth_l2, None, inv_K, pose_mat=pose_b)\n",
    "    pose_flow = tf.interpolate(pose_flow, [h//2, w//2], align_corners=True, mode='bilinear')\n",
    "    \n",
    "    pose_img = flow_to_png_middlebury(pose_flow[0].cpu().numpy())\n",
    "    pose_imgs.append(pose_img)\n",
    "    pose_img = flow_to_png_middlebury(pose_flow[1].cpu().numpy())\n",
    "    pose_imgs.append(pose_img)\n",
    "\n",
    "    # sf\n",
    "    flow_b = tf.interpolate(flow_b, [h//2, w//2], align_corners=True, mode='bilinear')\n",
    "    \n",
    "    sf_img = flow_to_png_middlebury(flow_b[0].cpu().numpy())\n",
    "    sf_imgs.append(sf_img)\n",
    "    sf_img = flow_to_png_middlebury(flow_b[1].cpu().numpy())\n",
    "    sf_imgs.append(sf_img)\n",
    "    \n",
    "    img = tf.interpolate(img_l2, [h//2, w//2], align_corners=True, mode='bilinear').permute(0, 2, 3, 1)\n",
    "    \n",
    "    img_l2s.append((img[0].cpu().numpy() * 255).astype(np.uint8))\n",
    "    img_l2s.append((img[1].cpu().numpy() * 255).astype(np.uint8))"
   ]
  },
  {
   "cell_type": "code",
   "execution_count": 38,
   "metadata": {},
   "outputs": [
    {
     "data": {
      "text/plain": [
       "<matplotlib.image.AxesImage at 0x7f8e87724b50>"
      ]
     },
     "execution_count": 38,
     "metadata": {},
     "output_type": "execute_result"
    },
    {
     "data": {
      "image/png": "[encoded data removed]",
      "text/plain": [
       "<Figure size 432x288 with 1 Axes>"
      ]
     },
     "metadata": {
      "needs_background": "light"
     },
     "output_type": "display_data"
    }
   ],
   "source": [
    "plt.imshow(mask_l2.cpu()[0].squeeze(), cmap='gray')"
   ]
  },
  {
   "cell_type": "code",
   "execution_count": 32,
   "metadata": {},
   "outputs": [
    {
     "name": "stderr",
     "output_type": "stream",
     "text": [
      "500it [00:00, 537.21it/s]\n"
     ]
    }
   ],
   "source": [
    "import numpy as np\n",
    "import matplotlib.pyplot as plt\n",
    "import matplotlib.animation as animation\n",
    "import imageio\n",
    "\n",
    "num_frames = len(depth_imgs)\n",
    "fps = 15 \n",
    "\n",
    "frames = []\n",
    "for (i, d, p, s, m) in tqdm(zip(img_l2s, depth_imgs, pose_imgs, sf_imgs, mask_imgs)):\n",
    "    frame = np.zeros((384, 832, 3)).astype(np.uint8)\n",
    "    frame[0*128: 1*128, 0*416: 1*416, :] = i\n",
    "    frame[1*128: 2*128, 0*416: 1*416, :] = d\n",
    "    frame[2*128: 3*128, 0*416: 1*416, :] = m\n",
    "    frame[0*128: 1*128, 1*416: 2*416, :] = p\n",
    "    frame[1*128: 2*128, 1*416: 2*416, :] = s\n",
    "    frames.append(frame)\n",
    "\n",
    "imageio.mimwrite('frames_ds.gif', frames, format='gif', fps=fps)"
   ]
  }
 ],
 "metadata": {
  "kernelspec": {
   "display_name": "SF",
   "language": "python",
   "name": "sf"
  },
  "language_info": {
   "codemirror_mode": {
    "name": "ipython",
    "version": 3
   },
   "file_extension": ".py",
   "mimetype": "text/x-python",
   "name": "python",
   "nbconvert_exporter": "python",
   "pygments_lexer": "ipython3",
   "version": "3.7.5"
  }
 },
 "nbformat": 4,
 "nbformat_minor": 4
}
